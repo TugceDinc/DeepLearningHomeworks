{
 "cells": [
  {
   "cell_type": "code",
   "execution_count": 1,
   "metadata": {},
   "outputs": [],
   "source": [
    "import numpy as np\n",
    "from PIL import Image\n",
    "import os,glob\n",
    "from math import exp\n",
    "from sklearn.utils import shuffle\n",
    "\n",
    "rng = 128 * 128 + 1 \n",
    "size = [128, 128]\n"
   ]
  },
  {
   "cell_type": "code",
   "execution_count": 2,
   "metadata": {},
   "outputs": [],
   "source": [
    "def trainPerceptron(inputs, t, weights, rho, iterNo):\n",
    "     \n",
    "    for j in range(iterNo):\n",
    "        \n",
    "        ##  Forward Propagation\n",
    "        a = 0\n",
    "        a = np.dot(weights, inputs)\n",
    "        y = sigmoid(a)\n",
    "        ##  End - Forward Propagation\n",
    "                \n",
    "        ##  Backward Propagation\n",
    "        error = t - y       \n",
    "        deltaW = np.zeros(rng)      \n",
    "        DsigmoidF = Dsigmoid(y)\n",
    "        deltaW = np.multiply((rho * error *  DsigmoidF), inputs)\n",
    "        weights = weights + deltaW\n",
    "        ##  End - Backward Propagation\n",
    "         \n",
    "    return weights"
   ]
  },
  {
   "cell_type": "code",
   "execution_count": 3,
   "metadata": {},
   "outputs": [],
   "source": [
    "def sigmoid(x):\n",
    "    return  (1 / (1 + exp(-1 * x)))\n",
    "\n",
    "def Dsigmoid(x):\n",
    "    sigmoidf = sigmoid(x)\n",
    "    return  (1 - sigmoidf)*sigmoidf\n"
   ]
  },
  {
   "cell_type": "code",
   "execution_count": 4,
   "metadata": {},
   "outputs": [],
   "source": [
    "def testPerceptron(sample_test, weights):\n",
    "    a=0\n",
    "    a = np.dot(weights, sample_test)\n",
    "    result = sigmoid(a)    \n",
    "    return result"
   ]
  },
  {
   "cell_type": "code",
   "execution_count": 7,
   "metadata": {},
   "outputs": [
    {
     "name": "stdout",
     "output_type": "stream",
     "text": [
      "Cannon Test result :  0.0002874774972664778\n",
      "Cellphone Test result :  0.9999999856502564\n"
     ]
    }
   ],
   "source": [
    "   \n",
    "trainCannonpath = \".\\\\train\\\\cannon\"\n",
    "trainCellpath = \".\\\\train\\\\cellphone\"\n",
    "    \n",
    "rho = 0.001 \n",
    "weights = np.random.rand(rng)\n",
    "weights = weights / 100\n",
    "\n",
    "fileLen = len(glob.glob(os.path.join(trainCannonpath, '*.jpg')))\n",
    "fileLen = fileLen + len(glob.glob(os.path.join(trainCellpath, '*.jpg')))\n",
    "    \n",
    "j = 0\n",
    "trainimages = np.zeros([fileLen, rng])\n",
    "trainresult = np.zeros([fileLen])\n",
    "    \n",
    "for filename in glob.glob(os.path.join(trainCannonpath, '*.jpg')): \n",
    "    img = Image.open(filename).convert('L')\n",
    "    img = img.resize(size, Image.ANTIALIAS)\n",
    "    pxels = img.getdata()\n",
    "    pxels = np.array(pxels)\n",
    "    pxels = pxels.astype('float32')\n",
    "    pxels = pxels / 255.0\n",
    "    pxels = np.append(pxels, [1])\n",
    "    trainimages[j] = pxels\n",
    "    trainresult[j] =  0\n",
    "    j = j + 1\n",
    "for filename in glob.glob(os.path.join(trainCellpath, '*.jpg')): \n",
    "    img = Image.open(filename).convert('L')\n",
    "    img = img.resize(size, Image.ANTIALIAS)\n",
    "    pxels = img.getdata()\n",
    "    pxels = np.array(pxels)\n",
    "    pxels = pxels.astype('float32')\n",
    "    pxels = pxels / 255.0\n",
    "    pxels = np.append(pxels, [1])\n",
    "    trainimages[j] = pxels\n",
    "    trainresult[j] =  1\n",
    "    j = j + 1\n",
    "trainimages, trainresult = shuffle(trainimages, trainresult)\n",
    "    \n",
    "for i in range(fileLen): \n",
    "    weights = trainPerceptron(trainimages[i], trainresult[i], weights, rho, 1000)\n",
    "\n",
    "testCannonPath = \".\\\\test\\\\cannon\"\n",
    "testCellPath = \".\\\\test\\\\cellphone\"\n",
    "\n",
    "for filename in glob.glob(os.path.join(testCannonPath, '*.jpg')): \n",
    "    img = Image.open(filename).convert('L')\n",
    "    img = img.resize(size, Image.ANTIALIAS)\n",
    "    pxels = img.getdata()\n",
    "    pxels = np.array(pxels)\n",
    "    pxels = pxels.astype('float32')\n",
    "    pxels = pxels / 255.0\n",
    "    pxels = np.append(pxels, [1])\n",
    "    result = testPerceptron(pxels, weights)\n",
    "    print(\"Cannon Test result : \", result)        \n",
    "for filename in glob.glob(os.path.join(testCellPath, '*.jpg')):\n",
    "    img = Image.open(filename).convert('L')\n",
    "    img = img.resize(size, Image.ANTIALIAS)\n",
    "    pxels = img.getdata()\n",
    "    pxels = np.array(pxels)\n",
    "    pxels = pxels.astype('float32')\n",
    "    pxels = pxels / 255.0\n",
    "    pxels = np.append(pxels, [1])\n",
    "    result = testPerceptron(pxels, weights)\n",
    "    print(\"Cellphone Test result : \" , result)"
   ]
  },
  {
   "cell_type": "code",
   "execution_count": null,
   "metadata": {},
   "outputs": [],
   "source": []
  }
 ],
 "metadata": {
  "kernelspec": {
   "display_name": "Python 3",
   "language": "python",
   "name": "python3"
  },
  "language_info": {
   "codemirror_mode": {
    "name": "ipython",
    "version": 3
   },
   "file_extension": ".py",
   "mimetype": "text/x-python",
   "name": "python",
   "nbconvert_exporter": "python",
   "pygments_lexer": "ipython3",
   "version": "3.7.3"
  }
 },
 "nbformat": 4,
 "nbformat_minor": 2
}
