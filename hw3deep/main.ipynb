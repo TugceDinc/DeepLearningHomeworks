{
 "cells": [
  {
   "cell_type": "code",
   "execution_count": 1,
   "metadata": {},
   "outputs": [],
   "source": [
    "import numpy as np\n",
    "from PIL import Image\n",
    "import os,glob\n",
    "from sklearn.utils import shuffle\n",
    "import pandas as pd"
   ]
  },
  {
   "cell_type": "code",
   "execution_count": 2,
   "metadata": {},
   "outputs": [],
   "source": [
    "rng = 128 * 128 \n",
    "size = [128, 128]"
   ]
  },
  {
   "cell_type": "code",
   "execution_count": 3,
   "metadata": {},
   "outputs": [],
   "source": [
    "def read128x128Image(filename):\n",
    "    img = Image.open(filename).convert('L')\n",
    "    img = img.resize(size, Image.ANTIALIAS)\n",
    "    pxels = img.getdata()\n",
    "    pxels = np.array(pxels)\n",
    "    pxels = pxels.astype('float32')\n",
    "    pxels = pxels / 255.0\n",
    "    return pxels"
   ]
  },
  {
   "cell_type": "code",
   "execution_count": 4,
   "metadata": {},
   "outputs": [],
   "source": [
    "def KNN(x_train, y_train, sample_test, k ):\n",
    "    \n",
    "    lenght = len(x_train)\n",
    "    \n",
    "    Result = np.zeros([lenght, 2])\n",
    "\n",
    "    for i in range(lenght):\n",
    "        xxxx = x_train[i]\n",
    "        result = np.subtract(sample_test, xxxx)\n",
    "        result = np.square(result)\n",
    "        result = np.sum(result)\n",
    "        result = np.sqrt(result)\n",
    "        Result[i,0] = result\n",
    "        Result[i,1] = y_train[i]\n",
    "    \n",
    "\n",
    "    columnIndex = 0\n",
    "   \n",
    "    Result = Result[Result[:,columnIndex].argsort()]\n",
    "    _lis = np.zeros([3,2])    \n",
    "    _lis[0,0] = 1\n",
    "    _lis[1,0] = 2\n",
    "    _lis[2,0] = 3\n",
    "    for x in range(7):\n",
    "        if Result[x,1] == 1:\n",
    "            _lis[0,1] = _lis[0,1] + 1\n",
    "        elif Result[x,1] == 2:\n",
    "            _lis[1,1] = _lis[1,1] + 1\n",
    "        elif Result[x,1] == 3:\n",
    "            _lis[2,1] = _lis[2,1] + 1  \n",
    "            \n",
    "    \n",
    "    _lis = _lis*100/7\n",
    "    print(\"Bu resim  %\"+ \"\\t%\".join(map(str, _lis[:,1])) + \" dir.\" )\n",
    "    \n",
    "        \n",
    "        \n",
    "    return 0"
   ]
  },
  {
   "cell_type": "code",
   "execution_count": 5,
   "metadata": {},
   "outputs": [],
   "source": [
    "def main():    \n",
    "   \n",
    "    trainButterflyPath = \".\\\\train\\\\butterfly\"\n",
    "    trainChairPath = \".\\\\train\\\\chair\"\n",
    "    trainLaptopPath = \".\\\\train\\\\laptop\"\n",
    "    \n",
    "\n",
    "    fileLen = len(glob.glob(os.path.join(trainButterflyPath, '*.jpg')))\n",
    "    fileLen = fileLen + len(glob.glob(os.path.join(trainChairPath, '*.jpg')))\n",
    "    fileLen = fileLen + len(glob.glob(os.path.join(trainLaptopPath, '*.jpg')))\n",
    "    \n",
    "    j = 0\n",
    "    trainimages = np.zeros([fileLen, rng])\n",
    "    trainresult = np.zeros([fileLen])\n",
    "    \n",
    "    for filename in glob.glob(os.path.join(trainButterflyPath, '*.jpg')): \n",
    "        trainimages[j] = read128x128Image(filename)\n",
    "        trainresult[j] = 1\n",
    "        j = j + 1\n",
    "    for filename in glob.glob(os.path.join(trainChairPath, '*.jpg')): \n",
    "        trainimages[j] = read128x128Image(filename)\n",
    "        trainresult[j] = 2\n",
    "        j = j + 1\n",
    "    \n",
    "    for filename in glob.glob(os.path.join(trainLaptopPath, '*.jpg')): \n",
    "        trainimages[j] = read128x128Image(filename)\n",
    "        trainresult[j] = 3\n",
    "        j = j + 1      \n",
    "        \n",
    "    k = 7\n",
    "\n",
    "    test = \".\\\\test\"\n",
    "    print(\"Yüzdelerin sırası 1, 2 ve 3 üncü sınıfa göredir.\")\n",
    "    for filename in glob.glob(os.path.join(test, '*.jpg')): \n",
    "        pxels = read128x128Image(filename)  \n",
    "        KNN(trainimages, trainresult, pxels, k )\n",
    "    \n"
   ]
  },
  {
   "cell_type": "code",
   "execution_count": 6,
   "metadata": {},
   "outputs": [
    {
     "name": "stdout",
     "output_type": "stream",
     "text": [
      "Yüzdelerin sırası 1, 2 ve 3 üncü sınıfa göredir.\n",
      "Bu resim  %42.857142857142854\t%42.857142857142854\t%14.285714285714286 dir.\n",
      "Bu resim  %0.0\t%0.0\t%100.0 dir.\n",
      "Bu resim  %85.71428571428571\t%14.285714285714286\t%0.0 dir.\n"
     ]
    }
   ],
   "source": [
    "if __name__ == '__main__':\n",
    "    main()    \n",
    "    "
   ]
  }
 ],
 "metadata": {
  "kernelspec": {
   "display_name": "Python 3",
   "language": "python",
   "name": "python3"
  },
  "language_info": {
   "codemirror_mode": {
    "name": "ipython",
    "version": 3
   },
   "file_extension": ".py",
   "mimetype": "text/x-python",
   "name": "python",
   "nbconvert_exporter": "python",
   "pygments_lexer": "ipython3",
   "version": "3.7.3"
  }
 },
 "nbformat": 4,
 "nbformat_minor": 2
}
